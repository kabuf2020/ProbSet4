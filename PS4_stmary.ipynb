{
 "cells": [
  {
   "cell_type": "code",
   "execution_count": 10,
   "metadata": {},
   "outputs": [
    {
     "name": "stdout",
     "output_type": "stream",
     "text": [
      "                  Species       Museum      Country\n",
      "0              lythrypnus         uwfc     honduras\n",
      "1              lythrypnus         uwfc     honduras\n",
      "2              lythrypnus         uwfc     honduras\n",
      "3              lythrypnus         uwfc     honduras\n",
      "4              lythrypnus         uwfc     honduras\n",
      "..                    ...          ...          ...\n",
      "91  lythrypnus pulchellus          sio       mexico\n",
      "92       lythrypnus zebra  cicimar-ipn       mexico\n",
      "93  lythrypnus pulchellus          sio       mexico\n",
      "94    lythrypnus nesiotes         fmnh  puerto rico\n",
      "95       lythrypnus dalli  cicimar-ipn       mexico\n",
      "\n",
      "[96 rows x 3 columns]\n"
     ]
    }
   ],
   "source": [
    "import idigbio\n",
    "import urllib.request, urllib.parse, urllib.error\n",
    "import json\n",
    "import pandas as pd\n",
    "\n",
    "api = idigbio.json()\n",
    "record_list = api.search_records(rq={\"genus\": \"Lythrypnus\"}, fields=[\"scientificname\",\"country\", \"institutioncode\"])\n",
    "#print(record_list)\n",
    "#collections=json.loads(record_list.read())\n",
    "#print(collections)\n",
    "data=[]\n",
    "for item in record_list['items']: #the indexTerms is a subdictionary including the fields requested above\n",
    "    info= item['indexTerms']  #extracting this as info makes it parsable\n",
    "    try: \n",
    "        obs=[info['scientificname'], info['institutioncode'], info['country']]\n",
    "        data.append(obs)\n",
    "    except:  \n",
    "        continue\n",
    "df = pd.DataFrame(data, columns = ['Species', 'Museum', 'Country']) \n",
    "#it is now possible to pull subset of data of interest from the data frame\n",
    "print(df)  \n",
    "        \n",
    "\n",
    "\n"
   ]
  },
  {
   "cell_type": "code",
   "execution_count": null,
   "metadata": {},
   "outputs": [],
   "source": []
  }
 ],
 "metadata": {
  "kernelspec": {
   "display_name": "Python 3.8 (full)",
   "language": "python",
   "name": "python3-3.8-ufrc"
  },
  "language_info": {
   "codemirror_mode": {
    "name": "ipython",
    "version": 3
   },
   "file_extension": ".py",
   "mimetype": "text/x-python",
   "name": "python",
   "nbconvert_exporter": "python",
   "pygments_lexer": "ipython3",
   "version": "3.8.5"
  }
 },
 "nbformat": 4,
 "nbformat_minor": 4
}
