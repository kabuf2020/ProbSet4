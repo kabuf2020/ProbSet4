{
 "cells": [
  {
   "cell_type": "code",
   "execution_count": 66,
   "metadata": {},
   "outputs": [
    {
     "data": {
      "text/plain": [
       "<matplotlib.legend.Legend at 0x2acb1a78cd00>"
      ]
     },
     "execution_count": 66,
     "metadata": {},
     "output_type": "execute_result"
    },
    {
     "data": {
      "image/png": "[encoded data removed]",
      "text/plain": [
       "<Figure size 432x288 with 1 Axes>"
      ]
     },
     "metadata": {
      "needs_background": "light"
     },
     "output_type": "display_data"
    }
   ],
   "source": [
    "## Kyla Boyd, Working with CORE API\n",
    "#Code adapted from: https://github.com/oacore/or2016-api-demo/blob/master/OR2016%20API%20demo.ipynb\n",
    "\n",
    "import urllib.request\n",
    "import urllib.parse\n",
    "import json\n",
    "import matplotlib.pyplot as plt\n",
    "import numpy as np\n",
    "from collections import Counter\n",
    "\n",
    "class CoreApiRequestor:\n",
    "\n",
    "    #Set values for API search\n",
    "    def __init__(self, endpoint, api_key): \n",
    "        self.endpoint = endpoint\n",
    "        self.api_key = api_key\n",
    "        #defaults\n",
    "        self.pagesize = 100\n",
    "        self.page = 1\n",
    "\n",
    "    \n",
    "    def parse_response(self, decoded):\n",
    "        res = []\n",
    "        for item in decoded['data']:\n",
    "            doi = None\n",
    "            if 'identifiers' in item:\n",
    "                for identifier in item['identifiers']:\n",
    "                    if identifier and identifier.startswith('doi:'):\n",
    "                        doi = identifier\n",
    "                        break\n",
    "            res.append([item['title'], doi])\n",
    "        return res\n",
    "\n",
    "    #Read search result into html variable\n",
    "    def request_url(self, url):\n",
    "        with urllib.request.urlopen(url) as response:\n",
    "            html = response.read()\n",
    "        return html\n",
    "\n",
    "    \n",
    "    def get_method_query_request_url(self,method,query,fullText,page):\n",
    "        if (fullText):\n",
    "            fullText = 'true'\n",
    "        else:\n",
    "            fullText = 'false'\n",
    "        params = {\n",
    "            'apiKey':self.api_key,\n",
    "            'page':page,\n",
    "            'pageSize':self.pagesize,\n",
    "            'fulltext':fullText\n",
    "        }\n",
    "        return self.endpoint + method + '/' + urllib.parse.quote(query) + '?' + urllib.parse.urlencode(params)\n",
    "\n",
    "    def get_up_to_50_pages_of_query(self,method,query,fulltext):\n",
    "        url = self.get_method_query_request_url(method,query,fulltext,1)\n",
    "        all_articles=[]\n",
    "        resp = self.request_url(url)\n",
    "        result = json.loads(resp.decode('utf-8'))\n",
    "        all_articles.append(result)\n",
    "        if (result['totalHits']>100):\n",
    "            numOfPages = int(result['totalHits']/self.pagesize)  #rounds down\n",
    "            if (numOfPages>50):\n",
    "                numOfPages=50\n",
    "            for i in range(2,numOfPages):\n",
    "                url = self.get_method_query_request_url(method,query,False,i)\n",
    "                #print(url)\n",
    "                resp =self.request_url(url)\n",
    "                all_articles.append(json.loads(resp.decode('utf-8')))\n",
    "        return all_articles\n",
    "\n",
    "endpoint = 'https://core.ac.uk/api-v2'\n",
    "\n",
    "api_key = 'GhZNapLecsCSHKiRyfIQF9rxg0zblJk1'\n",
    "\n",
    "method = '/articles/search'\n",
    "topic = 'title:*coronavirus* AND year:[2017 TO 2020]'\n",
    "\n",
    "api = CoreApiRequestor(endpoint,api_key)\n",
    "\n",
    "url = api.get_method_query_request_url(method,topic,False,1)\n",
    "\n",
    "result = api.request_url(url)\n",
    "#result\n",
    "\n",
    "Result_50page = api.get_up_to_50_pages_of_query(method,topic,False)\n",
    "#Result_50page[0]\n",
    "\n",
    "pub_year = []\n",
    "for page in Result_50page:\n",
    "    for entry in page['data']:\n",
    "        if 'year' in entry:\n",
    "            pub_year.append(entry['year'])\n",
    "        \n",
    "#print(pub_year)\n",
    "cnt = Counter(pub_year)\n",
    "labels, values = zip(*sorted(cnt.items(), key=lambda x: x[0]))\n",
    "indices = np.arange(len(labels))\n",
    "fix, ax = plt.subplots()\n",
    "ax.bar(indices+1, values, 1, color='steelblue', edgecolor='black', label='Coronavirus')\n",
    "plt.xlim([0, indices.size+1])\n",
    "plt.xticks(indices+1.0, labels, fontsize=8, rotation='vertical')\n",
    "plt.legend()"
   ]
  },
  {
   "cell_type": "code",
   "execution_count": null,
   "metadata": {},
   "outputs": [],
   "source": []
  }
 ],
 "metadata": {
  "kernelspec": {
   "display_name": "Python 3.8 (full)",
   "language": "python",
   "name": "python3-3.8-ufrc"
  },
  "language_info": {
   "codemirror_mode": {
    "name": "ipython",
    "version": 3
   },
   "file_extension": ".py",
   "mimetype": "text/x-python",
   "name": "python",
   "nbconvert_exporter": "python",
   "pygments_lexer": "ipython3",
   "version": "3.8.5"
  },
  "toc-autonumbering": true,
  "toc-showcode": true,
  "toc-showmarkdowntxt": true,
  "toc-showtags": true
 },
 "nbformat": 4,
 "nbformat_minor": 4
}
