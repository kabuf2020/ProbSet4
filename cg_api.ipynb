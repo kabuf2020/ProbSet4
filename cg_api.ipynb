{
 "cells": [
  {
   "cell_type": "code",
   "execution_count": null,
   "metadata": {},
   "outputs": [],
   "source": [
    "#import the requests and json modules\n",
    "\n",
    "import requests\n",
    "import json\n",
    "\n",
    "people = requests.get('http://api.open-notify.org/astros.json')\n",
    "\n",
    "# prints the number of people in space\n",
    "\n",
    "print(\"There are\",people_json['number'], \"people in space\")\n",
    "\n",
    "# prints the name of the people in space and where they are located\n",
    "\n",
    "for p in people_json['people']:\n",
    "    print(\"Name:\", p['name'])\n",
    "    print(\"Currently on board the\", p['craft'])"
   ]
  }
 ],
 "metadata": {
  "kernelspec": {
   "display_name": "Python 3.8 (full)",
   "language": "python",
   "name": "python3-3.8-ufrc"
  },
  "language_info": {
   "codemirror_mode": {
    "name": "ipython",
    "version": 3
   },
   "file_extension": ".py",
   "mimetype": "text/x-python",
   "name": "python",
   "nbconvert_exporter": "python",
   "pygments_lexer": "ipython3",
   "version": "3.8.5"
  }
 },
 "nbformat": 4,
 "nbformat_minor": 4
}
